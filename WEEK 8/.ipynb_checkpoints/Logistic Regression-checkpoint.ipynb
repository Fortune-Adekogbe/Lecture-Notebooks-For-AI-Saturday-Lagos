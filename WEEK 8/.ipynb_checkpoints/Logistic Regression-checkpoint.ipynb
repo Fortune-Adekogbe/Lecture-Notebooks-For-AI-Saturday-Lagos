{
 "cells": [
  {
   "cell_type": "markdown",
   "metadata": {},
   "source": [
    "Import relevant Libraries"
   ]
  },
  {
   "cell_type": "code",
   "execution_count": 3,
   "metadata": {},
   "outputs": [],
   "source": [
    "import pandas as pd\n",
    "import numpy as np\n",
    "import matplotlib.pyplot as plt"
   ]
  },
  {
   "cell_type": "markdown",
   "metadata": {},
   "source": [
    "Load Data"
   ]
  },
  {
   "cell_type": "code",
   "execution_count": null,
   "metadata": {},
   "outputs": [],
   "source": [
    "data = pd.read_csv('data/ex2data1.txt', names=['x1','x2','y'])\n",
    "data.head()"
   ]
  },
  {
   "cell_type": "code",
   "execution_count": null,
   "metadata": {},
   "outputs": [],
   "source": [
    "data.shape"
   ]
  },
  {
   "cell_type": "code",
   "execution_count": null,
   "metadata": {},
   "outputs": [],
   "source": [
    "x_raw = np.asarray(data[[\"x1\",\"x2\"]])\n",
    "y_raw = np.asarray(data[\"y\"])"
   ]
  },
  {
   "cell_type": "code",
   "execution_count": 68,
   "metadata": {},
   "outputs": [],
   "source": [
    "def plot(x, y, xlabel, ylabel, legend, ax=None):\n",
    "    # Find Indices of Positive and Negative Examples\n",
    "    pos = y == 1\n",
    "    neg = y == 0\n",
    "\n",
    "    if ax == None:\n",
    "        # Plot Examples\n",
    "        plt.xlabel(xlabel) # Exam Score 2\n",
    "        plt.ylabel(ylabel) # Exam Score 2\n",
    "        plt.plot(x[pos, 0], x[pos, 1], 'k+', marker='+', c='b')\n",
    "        plt.plot(x[neg, 0], x[neg, 1], 'ko', c='y')\n",
    "        plt.legend(legend) #the legend should be an array\n",
    "    else:\n",
    "        ax.set_xlabel(xlabel)\n",
    "        ax.set_ylabel(ylabel)\n",
    "        ax.plot(x[pos, 0], x[pos, 1], 'k+', marker='+', c='b')\n",
    "        ax.plot(x[neg, 0], x[neg, 1], 'ko', c='y')\n",
    "        ax.legend(legend) #,'Admitted', 'Not admitted'\n"
   ]
  },
  {
   "cell_type": "code",
   "execution_count": 69,
   "metadata": {},
   "outputs": [
    {
     "ename": "NameError",
     "evalue": "name 'x_raw' is not defined",
     "output_type": "error",
     "traceback": [
      "\u001b[1;31m---------------------------------------------------------------------------\u001b[0m",
      "\u001b[1;31mNameError\u001b[0m                                 Traceback (most recent call last)",
      "\u001b[1;32m<ipython-input-69-3577c298c7d8>\u001b[0m in \u001b[0;36m<module>\u001b[1;34m\u001b[0m\n\u001b[1;32m----> 1\u001b[1;33m \u001b[0mplot\u001b[0m\u001b[1;33m(\u001b[0m\u001b[0mx_raw\u001b[0m\u001b[1;33m,\u001b[0m \u001b[0my_raw\u001b[0m\u001b[1;33m)\u001b[0m\u001b[1;33m\u001b[0m\u001b[1;33m\u001b[0m\u001b[0m\n\u001b[0m",
      "\u001b[1;31mNameError\u001b[0m: name 'x_raw' is not defined"
     ]
    }
   ],
   "source": [
    "plot(x_raw, y_raw)"
   ]
  },
  {
   "cell_type": "code",
   "execution_count": 64,
   "metadata": {},
   "outputs": [
    {
     "ename": "NameError",
     "evalue": "name 'y_raw' is not defined",
     "output_type": "error",
     "traceback": [
      "\u001b[1;31m---------------------------------------------------------------------------\u001b[0m",
      "\u001b[1;31mNameError\u001b[0m                                 Traceback (most recent call last)",
      "\u001b[1;32m<ipython-input-64-d91e788222b9>\u001b[0m in \u001b[0;36m<module>\u001b[1;34m\u001b[0m\n\u001b[0;32m      1\u001b[0m \u001b[1;31m# add x0 to the feature matrix\u001b[0m\u001b[1;33m\u001b[0m\u001b[1;33m\u001b[0m\u001b[1;33m\u001b[0m\u001b[0m\n\u001b[1;32m----> 2\u001b[1;33m \u001b[0mX\u001b[0m \u001b[1;33m=\u001b[0m \u001b[0mnp\u001b[0m\u001b[1;33m.\u001b[0m\u001b[0mhstack\u001b[0m\u001b[1;33m(\u001b[0m\u001b[1;33m(\u001b[0m\u001b[0mnp\u001b[0m\u001b[1;33m.\u001b[0m\u001b[0mones_like\u001b[0m\u001b[1;33m(\u001b[0m\u001b[0my_raw\u001b[0m\u001b[1;33m)\u001b[0m\u001b[1;33m[\u001b[0m\u001b[1;33m:\u001b[0m\u001b[1;33m,\u001b[0m\u001b[1;32mNone\u001b[0m\u001b[1;33m]\u001b[0m\u001b[1;33m,\u001b[0m\u001b[0mx_raw\u001b[0m\u001b[1;33m)\u001b[0m\u001b[1;33m)\u001b[0m\u001b[1;33m\u001b[0m\u001b[1;33m\u001b[0m\u001b[0m\n\u001b[0m\u001b[0;32m      3\u001b[0m \u001b[0my\u001b[0m \u001b[1;33m=\u001b[0m \u001b[0my_raw\u001b[0m\u001b[1;33m.\u001b[0m\u001b[0mreshape\u001b[0m\u001b[1;33m(\u001b[0m\u001b[1;33m-\u001b[0m\u001b[1;36m1\u001b[0m\u001b[1;33m,\u001b[0m\u001b[1;36m1\u001b[0m\u001b[1;33m)\u001b[0m\u001b[1;33m\u001b[0m\u001b[1;33m\u001b[0m\u001b[0m\n",
      "\u001b[1;31mNameError\u001b[0m: name 'y_raw' is not defined"
     ]
    }
   ],
   "source": [
    "# add x0 to the feature matrix\n",
    "X = np.hstack((np.ones_like(y_raw)[:,None],x_raw))\n",
    "y = y_raw.reshape(-1,1)"
   ]
  },
  {
   "cell_type": "markdown",
   "metadata": {},
   "source": [
    "Create Sigmoid Function"
   ]
  },
  {
   "cell_type": "code",
   "execution_count": 65,
   "metadata": {},
   "outputs": [],
   "source": [
    "def sigmoid(z):\n",
    "    return 1 / (1 + np.exp(-z))"
   ]
  },
  {
   "cell_type": "code",
   "execution_count": null,
   "metadata": {},
   "outputs": [],
   "source": [
    "def compute_cost(initial_theta, x, y):\n",
    "    m = x[:,0].size\n",
    "    h = sigmoid(x @ initial_theta)\n",
    "    J = None\n",
    "    J = 1/m *(-np.log(h).T @ y - np.log(1-h).T @ (1-y))[0]\n",
    "    \n",
    "    return J"
   ]
  },
  {
   "cell_type": "code",
   "execution_count": null,
   "metadata": {},
   "outputs": [],
   "source": [
    "def gradient(theta, x, y):\n",
    "    m = x[:,0].size\n",
    "    h = sigmoid(x @ (theta.reshape(-1,1)))\n",
    "    \n",
    "    grad =(1/m)*x.T @ (h-y)\n",
    "\n",
    "    return(grad.flatten())"
   ]
  },
  {
   "cell_type": "code",
   "execution_count": null,
   "metadata": {},
   "outputs": [],
   "source": [
    "initial_theta = np.zeros(X.shape[1])\n",
    "cost = compute_cost(initial_theta, X, y)\n",
    "grad = gradient(initial_theta, X, y)\n",
    "print('Cost: \\n', cost)\n",
    "print('Grad: \\n', grad.shape)"
   ]
  },
  {
   "cell_type": "markdown",
   "metadata": {},
   "source": [
    "Scipy minimize function\n",
    "\n",
    "`scipy.optimize.minimize(fun, x0, args=(), method=None, jac=None, hess=None, hessp=None, bounds=None, constraints=(), tol=None, callback=None, options=None)`"
   ]
  },
  {
   "cell_type": "code",
   "execution_count": 4,
   "metadata": {},
   "outputs": [],
   "source": [
    "from scipy.optimize import minimize"
   ]
  },
  {
   "cell_type": "code",
   "execution_count": null,
   "metadata": {},
   "outputs": [],
   "source": [
    "res = minimize(compute_cost, initial_theta, args=(X,y), method=None, jac=gradient, options={'maxiter':400})"
   ]
  },
  {
   "cell_type": "code",
   "execution_count": null,
   "metadata": {},
   "outputs": [],
   "source": [
    "# this will return the trained weights\n",
    "res.x"
   ]
  },
  {
   "cell_type": "code",
   "execution_count": null,
   "metadata": {},
   "outputs": [],
   "source": [
    "def Test(theta, X, threshold=0.5):\n",
    "    p = sigmoid(X @ theta.T) >= threshold\n",
    "    return(p.astype('int'))"
   ]
  },
  {
   "cell_type": "code",
   "execution_count": null,
   "metadata": {},
   "outputs": [],
   "source": [
    "p = Test(res.x, X) \n",
    "print('Train accuracy {}%'.format(100*sum(p == y.ravel())/p.size))"
   ]
  },
  {
   "cell_type": "code",
   "execution_count": null,
   "metadata": {},
   "outputs": [],
   "source": [
    "def test_plot(x, y, exam_1, exam_2):\n",
    "    plot(x_raw, y_raw)\n",
    "    if(exam_1 and exam_2 == None):\n",
    "        x1_min, x1_max = x_raw[:,0].min(), x_raw[:,0].max()\n",
    "        x2_min, x2_max = x_raw[:,1].min(), x_raw[:,1].max()\n",
    "        xx1, xx2 = np.meshgrid(np.linspace(x1_min, x1_max), np.linspace(x2_min, x2_max))\n",
    "        x_test = np.c_[np.ones((xx1.ravel().shape[0],1)), xx1.ravel(), xx2.ravel()]\n",
    "        h = sigmoid(x_test @ res.x)\n",
    "        h = h.reshape(xx1.shape)\n",
    "        plt.contour(xx1, xx2, h, [0.5], linewidths=1, colors='b')\n",
    "        plt.legend(['Admitted', 'Not admitted'])\n",
    "    else:\n",
    "        x1_min, x1_max = x_raw[:,0].min(), x_raw[:,0].max()\n",
    "        x2_min, x2_max = x_raw[:,1].min(), x_raw[:,1].max()\n",
    "        xx1, xx2 = np.meshgrid(np.linspace(x1_min, x1_max), np.linspace(x2_min, x2_max))\n",
    "        x_test = np.c_[np.ones((xx1.ravel().shape[0],1)), xx1.ravel(), xx2.ravel()]\n",
    "        h = sigmoid(x_test @ res.x)\n",
    "        h = h.reshape(xx1.shape)\n",
    "        plt.contour(xx1, xx2, h, [0.5], linewidths=1, colors='b')\n",
    "        plt.scatter(exam_1, exam_2, s=60, c='g', marker='v')\n",
    "#         plt.legend(['Admitted', 'Not admitted', \"pred_pos\"])"
   ]
  },
  {
   "cell_type": "code",
   "execution_count": null,
   "metadata": {},
   "outputs": [],
   "source": [
    "test_plot(x_raw, y_raw, None, None)"
   ]
  },
  {
   "cell_type": "code",
   "execution_count": 23,
   "metadata": {},
   "outputs": [],
   "source": [
    "def predict(trained_weight, x, y):\n",
    "    input_1 = int(input(\"Enter Exam 1 Score: \"))\n",
    "    input_2 = int(input(\"Enter Exam 2 Score: \"))\n",
    "\n",
    "    z = trained_weight[0] + trained_weight[1]*input_1 + trained_weight[2]*input_2\n",
    "    h = 1 / (1 + np.exp(-z)) #sigmoid\n",
    "\n",
    "    prob = h\n",
    "    print('Admission probability is: ', prob, \"\\n\")\n",
    "    test_plot(x, y, input_1, input_2)\n",
    "    \n",
    "    if (prob >= 0.5):\n",
    "        print(\"This student has higher chances of gaining admission\")\n",
    "    else:\n",
    "        print(\"This student has lower chances of gaining admission\")"
   ]
  },
  {
   "cell_type": "code",
   "execution_count": null,
   "metadata": {},
   "outputs": [],
   "source": [
    "predict(res.x, x_raw, x_raw)"
   ]
  },
  {
   "cell_type": "markdown",
   "metadata": {},
   "source": [
    "Notice the position of the green marker. it reflects the position of your input on the regression plot"
   ]
  },
  {
   "cell_type": "markdown",
   "metadata": {},
   "source": [
    "## Regularised Logistic Regression"
   ]
  },
  {
   "cell_type": "code",
   "execution_count": 5,
   "metadata": {},
   "outputs": [
    {
     "data": {
      "text/html": [
       "<div>\n",
       "<style scoped>\n",
       "    .dataframe tbody tr th:only-of-type {\n",
       "        vertical-align: middle;\n",
       "    }\n",
       "\n",
       "    .dataframe tbody tr th {\n",
       "        vertical-align: top;\n",
       "    }\n",
       "\n",
       "    .dataframe thead th {\n",
       "        text-align: right;\n",
       "    }\n",
       "</style>\n",
       "<table border=\"1\" class=\"dataframe\">\n",
       "  <thead>\n",
       "    <tr style=\"text-align: right;\">\n",
       "      <th></th>\n",
       "      <th>x1</th>\n",
       "      <th>x2</th>\n",
       "      <th>y</th>\n",
       "    </tr>\n",
       "  </thead>\n",
       "  <tbody>\n",
       "    <tr>\n",
       "      <th>0</th>\n",
       "      <td>0.051267</td>\n",
       "      <td>0.69956</td>\n",
       "      <td>1</td>\n",
       "    </tr>\n",
       "    <tr>\n",
       "      <th>1</th>\n",
       "      <td>-0.092742</td>\n",
       "      <td>0.68494</td>\n",
       "      <td>1</td>\n",
       "    </tr>\n",
       "    <tr>\n",
       "      <th>2</th>\n",
       "      <td>-0.213710</td>\n",
       "      <td>0.69225</td>\n",
       "      <td>1</td>\n",
       "    </tr>\n",
       "    <tr>\n",
       "      <th>3</th>\n",
       "      <td>-0.375000</td>\n",
       "      <td>0.50219</td>\n",
       "      <td>1</td>\n",
       "    </tr>\n",
       "    <tr>\n",
       "      <th>4</th>\n",
       "      <td>-0.513250</td>\n",
       "      <td>0.46564</td>\n",
       "      <td>1</td>\n",
       "    </tr>\n",
       "  </tbody>\n",
       "</table>\n",
       "</div>"
      ],
      "text/plain": [
       "         x1       x2  y\n",
       "0  0.051267  0.69956  1\n",
       "1 -0.092742  0.68494  1\n",
       "2 -0.213710  0.69225  1\n",
       "3 -0.375000  0.50219  1\n",
       "4 -0.513250  0.46564  1"
      ]
     },
     "execution_count": 5,
     "metadata": {},
     "output_type": "execute_result"
    }
   ],
   "source": [
    "data2 = pd.read_csv('data/ex2data2.txt', names=['x1','x2','y'])\n",
    "data2.head()"
   ]
  },
  {
   "cell_type": "code",
   "execution_count": 6,
   "metadata": {},
   "outputs": [
    {
     "data": {
      "text/plain": [
       "(118, 3)"
      ]
     },
     "execution_count": 6,
     "metadata": {},
     "output_type": "execute_result"
    }
   ],
   "source": [
    "data2.shape"
   ]
  },
  {
   "cell_type": "code",
   "execution_count": 7,
   "metadata": {},
   "outputs": [],
   "source": [
    "x2_raw = np.asarray(data2[[\"x1\",\"x2\"]])\n",
    "y2_raw = np.asarray(data2[\"y\"])"
   ]
  },
  {
   "cell_type": "code",
   "execution_count": 10,
   "metadata": {},
   "outputs": [
    {
     "data": {
      "image/png": "[encoded data removed]",
      "text/plain": [
       "<Figure size 432x288 with 1 Axes>"
      ]
     },
     "metadata": {
      "needs_background": "light"
     },
     "output_type": "display_data"
    }
   ],
   "source": [
    "plot(x2_raw, y2_raw)"
   ]
  },
  {
   "cell_type": "markdown",
   "metadata": {},
   "source": [
    "`class sklearn.preprocessing.PolynomialFeatures(degree=2, interaction_only=False, include_bias=True)`[source](https://scikit-learn.org/stable/modules/generated/sklearn.preprocessing.PolynomialFeatures.html)\n",
    "\n",
    "Generate polynomial and interaction features.\n",
    "\n",
    "Generate a new feature matrix consisting of all polynomial combinations of the features with degree less than or equal to the specified degree. For example, if an input sample is two dimensional and of the form [a, b], the degree-2 polynomial features are [1, a, b, a^2, ab, b^2]."
   ]
  },
  {
   "cell_type": "code",
   "execution_count": 11,
   "metadata": {},
   "outputs": [],
   "source": [
    "from sklearn.preprocessing import PolynomialFeatures"
   ]
  },
  {
   "cell_type": "code",
   "execution_count": 12,
   "metadata": {},
   "outputs": [],
   "source": [
    "mapping = PolynomialFeatures(6)"
   ]
  },
  {
   "cell_type": "code",
   "execution_count": 13,
   "metadata": {},
   "outputs": [
    {
     "data": {
      "text/plain": [
       "PolynomialFeatures(degree=6, include_bias=True, interaction_only=False)"
      ]
     },
     "execution_count": 13,
     "metadata": {},
     "output_type": "execute_result"
    }
   ],
   "source": [
    "mapping"
   ]
  },
  {
   "cell_type": "code",
   "execution_count": 14,
   "metadata": {},
   "outputs": [
    {
     "data": {
      "text/plain": [
       "(118, 28)"
      ]
     },
     "execution_count": 14,
     "metadata": {},
     "output_type": "execute_result"
    }
   ],
   "source": [
    "x2_raw_mapped = mapping.fit_transform(x2_raw)\n",
    "x2_raw_mapped.shape"
   ]
  },
  {
   "cell_type": "code",
   "execution_count": 15,
   "metadata": {},
   "outputs": [],
   "source": [
    "def costFunctionReg(theta, X, y, reg):\n",
    "    m = y.size\n",
    "    h = sigmoid(X @ theta)\n",
    "    J = (1/m)*(-(np.log(h).T @ y) - (np.log(1-h).T @ (1-y))) + (reg/(2*m))*np.sum(np.square(theta[1:]))\n",
    "    #print(J.shape)\n",
    "    \n",
    "    return(J)"
   ]
  },
  {
   "cell_type": "code",
   "execution_count": 16,
   "metadata": {},
   "outputs": [],
   "source": [
    "def gradientReg(theta,X, y, reg):\n",
    "    m = y.size\n",
    "    h = sigmoid(X @ theta)\n",
    "    grad = (1/m)*(X.T @ (h-y)) + (reg/m)*theta  #+ (reg/m)*np.r_[[[0]],theta[1:].reshape(-1,1)]\n",
    "    \n",
    "    return (grad.flatten())"
   ]
  },
  {
   "cell_type": "code",
   "execution_count": 19,
   "metadata": {},
   "outputs": [
    {
     "data": {
      "text/plain": [
       "(28,)"
      ]
     },
     "execution_count": 19,
     "metadata": {},
     "output_type": "execute_result"
    }
   ],
   "source": [
    "initial_theta = np.zeros(x2_raw_mapped.shape[1])\n",
    "costFunctionReg(initial_theta, x2_raw_mapped, y2_raw, 1)\n",
    "gradientReg(initial_theta,x2_raw_mapped, y2_raw, 1).shape"
   ]
  },
  {
   "cell_type": "code",
   "execution_count": 20,
   "metadata": {},
   "outputs": [],
   "source": [
    "res2 = minimize(costFunctionReg, initial_theta, args=(x2_raw_mapped, y2_raw, 1), method=None, jac=gradientReg, options={'maxiter':3000})"
   ]
  },
  {
   "cell_type": "code",
   "execution_count": 21,
   "metadata": {},
   "outputs": [],
   "source": [
    "from scipy.optimize import minimize"
   ]
  },
  {
   "cell_type": "code",
   "execution_count": 38,
   "metadata": {},
   "outputs": [],
   "source": [
    "def predict2(trained_weight, X, threshold=0.5):\n",
    "#     input_1 = int(input(\"Enter Exam 1 Score: \"))\n",
    "#     input_2 = int(input(\"Enter Exam 2 Score: \"))\n",
    "\n",
    "#     z = trained_weight[0] + trained_weight[1]*input_1 + trained_weight[2]*input_2\n",
    "#     h = 1 / (1 + np.exp(-z)) #sigmoid\n",
    "\n",
    "#     prob = h\n",
    "#     print('Admission probability is: ', prob, \"\\n\")\n",
    "#     test_plot(x, y, input_1, input_2)\n",
    "    \n",
    "#     if (prob >= 0.5):\n",
    "#         print(\"This student has higher chances of gaining admission\")\n",
    "#     else:\n",
    "#         print(\"This student has lower chances of gaining admission\")\n",
    "    \n",
    "    p = sigmoid(X @ trained_weight.T) >= threshold\n",
    "\n",
    "    return(p.astype('int'))"
   ]
  },
  {
   "cell_type": "code",
   "execution_count": 43,
   "metadata": {},
   "outputs": [
    {
     "name": "stdout",
     "output_type": "stream",
     "text": [
      "91.52542372881356\n",
      "82.20338983050847\n",
      "60.16949152542373\n"
     ]
    }
   ],
   "source": []
  },
  {
   "cell_type": "code",
   "execution_count": 70,
   "metadata": {},
   "outputs": [],
   "source": [
    "def test2_plot(X, Y, X_mapped):\n",
    "    fig, ax = plt.subplots(1,3, sharey = True, figsize=(17,5))\n",
    "    \n",
    "    # Decision boundaries\n",
    "    # Lambda = 0 : No regularization --> too flexible, overfitting the training data\n",
    "    # Lambda = 1 : Looks about right\n",
    "    # Lambda = 100 : Too much regularization --> high bias\n",
    "\n",
    "    \n",
    "    for i, C in enumerate([0, 1, 100]):\n",
    "        plot(X, Y, \"test\", \"test\", [\"A\", \"B\"], ax.flatten()[i])\n",
    "        # Optimize costFunctionReg\n",
    "        res2 = minimize(costFunctionReg, initial_theta, args=(X_mapped, Y, C), method=None, jac=gradientReg, options={'maxiter':3000})\n",
    "\n",
    "        # Accuracy\n",
    "        accuracy = 100*sum(predict2(res2.x, X_mapped) == Y.ravel())/Y.size    \n",
    "        print(accuracy, \"%\")\n",
    "\n",
    "        # Plot decisionboundary\n",
    "        x1_min, x1_max = X[:,0].min(), X[:,0].max(),\n",
    "        x2_min, x2_max = X[:,1].min(), X[:,1].max(),\n",
    "        xx1, xx2 = np.meshgrid(np.linspace(x1_min, x1_max), np.linspace(x2_min, x2_max))\n",
    "        h = sigmoid(mapping.fit_transform(np.c_[xx1.ravel(), xx2.ravel()]) @ (res2.x))\n",
    "        h = h.reshape(xx1.shape)\n",
    "        ax.flatten()[i].contour(xx1, xx2, h, [0.5], linewidths=1, colors='g');       \n",
    "        ax.flatten()[i].set_title('Train accuracy {}% with Lambda = {}'.format(np.round(accuracy, decimals=2), C))"
   ]
  },
  {
   "cell_type": "code",
   "execution_count": 71,
   "metadata": {},
   "outputs": [
    {
     "name": "stdout",
     "output_type": "stream",
     "text": [
      "91.52542372881356 %\n",
      "82.20338983050847 %\n",
      "60.16949152542373 %\n"
     ]
    },
    {
     "name": "stderr",
     "output_type": "stream",
     "text": [
      "C:\\Users\\Kenechi.Dukor\\AppData\\Local\\Continuum\\anaconda3\\lib\\site-packages\\ipykernel_launcher.py:2: RuntimeWarning: overflow encountered in exp\n",
      "  \n"
     ]
    },
    {
     "data": {
      "image/png": "[encoded data removed]",
      "text/plain": [
       "<Figure size 1224x360 with 3 Axes>"
      ]
     },
     "metadata": {
      "needs_background": "light"
     },
     "output_type": "display_data"
    }
   ],
   "source": [
    "test2_plot(x2_raw, y2_raw, x2_raw_mapped)"
   ]
  },
  {
   "cell_type": "code",
   "execution_count": null,
   "metadata": {},
   "outputs": [],
   "source": [
    "\n",
    "\n",
    "    fig, axes = plt.subplots(1,3, sharey = True, figsize=(17,5))\n",
    "    \n",
    "    # Scatter plot of X,y\n",
    "    plotData(data2.values, 'Microchip Test 1', 'Microchip Test 2', 'y = 1', 'y = 0', axes.flatten()[i])\n",
    "    \n",
    "    # Plot decisionboundary\n",
    "    x1_min, x1_max = X[:,0].min(), X[:,0].max(),\n",
    "    x2_min, x2_max = X[:,1].min(), X[:,1].max(),\n",
    "    xx1, xx2 = np.meshgrid(np.linspace(x1_min, x1_max), np.linspace(x2_min, x2_max))\n",
    "    h = sigmoid(mapping.fit_transform(np.c_[xx1.ravel(), xx2.ravel()]).dot(res2.x))\n",
    "    h = h.reshape(xx1.shape)\n",
    "    axes.flatten()[i].contour(xx1, xx2, h, [0.5], linewidths=1, colors='g');       \n",
    "    axes.flatten()[i].set_title('Train accuracy {}% with Lambda = {}'.format(np.round(accuracy, decimals=2), C))"
   ]
  },
  {
   "cell_type": "markdown",
   "metadata": {},
   "source": [
    "`>>>` a=[1,5,9,11,2,66]\n",
    "\n",
    "`>>>` a[1:]\n",
    "\n",
    "[5, 9, 11, 2, 66]\n",
    "\n",
    "`>>>` a[:1]\n",
    "\n",
    "[1]\n",
    "\n",
    "`>>>` a[-1:]\n",
    "\n",
    "[66]\n",
    "\n",
    "`>>>` a[:-1]\n",
    "\n",
    "[1, 5, 9, 11, 2]\n",
    "\n",
    "`>>>` a[3]\n",
    "\n",
    "11\n",
    "\n",
    "`>>>` a[3:]\n",
    "\n",
    "[11, 2, 66]\n",
    "\n",
    "`>>>` a[:3]\n",
    "\n",
    "[1, 5, 9]\n",
    "\n",
    "`>>>` a[-3:]\n",
    "\n",
    "[11, 2, 66]\n",
    "\n",
    "`>>>` a[:-3]\n",
    "\n",
    "[1, 5, 9]\n",
    "\n",
    "`>>>` a[::1]\n",
    "\n",
    "[1, 5, 9, 11, 2, 66]\n",
    "\n",
    "`>>>` a[::-1]\n",
    "\n",
    "[66, 2, 11, 9, 5, 1]\n",
    "\n",
    "`>>>` a[1::]\n",
    "\n",
    "[5, 9, 11, 2, 66]\n",
    "\n",
    "`>>>` a[::-1]\n",
    "\n",
    "[66, 2, 11, 9, 5, 1]\n",
    "\n",
    "`>>>` a[::-2]\n",
    "\n",
    "[66, 11, 5]\n",
    "\n",
    "`>>>` a[2::]\n",
    "\n",
    "[9, 11, 2, 66]"
   ]
  },
  {
   "cell_type": "code",
   "execution_count": null,
   "metadata": {},
   "outputs": [],
   "source": []
  }
 ],
 "metadata": {
  "kernelspec": {
   "display_name": "Python 3",
   "language": "python",
   "name": "python3"
  }
 },
 "nbformat": 4,
 "nbformat_minor": 2
}
