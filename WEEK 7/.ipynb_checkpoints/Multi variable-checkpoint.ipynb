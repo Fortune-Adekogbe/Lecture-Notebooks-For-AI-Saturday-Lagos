{
 "cells": [
  {
   "cell_type": "markdown",
   "metadata": {},
   "source": [
    "## Linear Regression \n",
    "#### Multivariant Linear Regression, from scratch."
   ]
  },
  {
   "cell_type": "markdown",
   "metadata": {},
   "source": [
    "#### AI Saturday Lagos Begineers Class (Instructors: `Tejumade Afonja`, `Kenechi Dukor`, `Stanley Dukor`)\n",
    "This exercise is adopted from [Andrew Ng Machine Learning Course](https://www.coursera.org/learn/machine-learning)"
   ]
  },
  {
   "cell_type": "code",
   "execution_count": 87,
   "metadata": {},
   "outputs": [],
   "source": [
    "# Libraries required for this practice \n",
    "import numpy as np\n",
    "import pandas as pd\n",
    "import matplotlib.pyplot as plt"
   ]
  },
  {
   "cell_type": "markdown",
   "metadata": {},
   "source": [
    "### Loading Data"
   ]
  },
  {
   "cell_type": "markdown",
   "metadata": {},
   "source": [
    "The data we will be using is a .txt file which contains a list of bedroom sizes, number of bedrooms and their corresponding price of the house.\n",
    "\n",
    "The values on the first column contains the bedroom sizes, the values of the second column contains the number of bedrooms and values on the third column contains the corresponding price of the house, in Naira.\n",
    "\n",
    "The goal of this exercise is to use linear regression and the optimization technique to generate a model that will predcit reasonable estimate of a house price when it is supplied the customers desired room size and number of rooms."
   ]
  },
  {
   "cell_type": "code",
   "execution_count": 88,
   "metadata": {},
   "outputs": [
    {
     "data": {
      "text/html": [
       "<div>\n",
       "<style scoped>\n",
       "    .dataframe tbody tr th:only-of-type {\n",
       "        vertical-align: middle;\n",
       "    }\n",
       "\n",
       "    .dataframe tbody tr th {\n",
       "        vertical-align: top;\n",
       "    }\n",
       "\n",
       "    .dataframe thead th {\n",
       "        text-align: right;\n",
       "    }\n",
       "</style>\n",
       "<table border=\"1\" class=\"dataframe\">\n",
       "  <thead>\n",
       "    <tr style=\"text-align: right;\">\n",
       "      <th></th>\n",
       "      <th>size</th>\n",
       "      <th>bedroom</th>\n",
       "      <th>price</th>\n",
       "    </tr>\n",
       "  </thead>\n",
       "  <tbody>\n",
       "    <tr>\n",
       "      <th>0</th>\n",
       "      <td>2104</td>\n",
       "      <td>3</td>\n",
       "      <td>399900</td>\n",
       "    </tr>\n",
       "    <tr>\n",
       "      <th>1</th>\n",
       "      <td>1600</td>\n",
       "      <td>3</td>\n",
       "      <td>329900</td>\n",
       "    </tr>\n",
       "    <tr>\n",
       "      <th>2</th>\n",
       "      <td>2400</td>\n",
       "      <td>3</td>\n",
       "      <td>369000</td>\n",
       "    </tr>\n",
       "    <tr>\n",
       "      <th>3</th>\n",
       "      <td>1416</td>\n",
       "      <td>2</td>\n",
       "      <td>232000</td>\n",
       "    </tr>\n",
       "    <tr>\n",
       "      <th>4</th>\n",
       "      <td>3000</td>\n",
       "      <td>4</td>\n",
       "      <td>539900</td>\n",
       "    </tr>\n",
       "  </tbody>\n",
       "</table>\n",
       "</div>"
      ],
      "text/plain": [
       "   size  bedroom   price\n",
       "0  2104        3  399900\n",
       "1  1600        3  329900\n",
       "2  2400        3  369000\n",
       "3  1416        2  232000\n",
       "4  3000        4  539900"
      ]
     },
     "execution_count": 88,
     "metadata": {},
     "output_type": "execute_result"
    }
   ],
   "source": [
    "# Using pandas to view the data\n",
    "data = pd.read_csv('data/ex1data2.txt', names=['size','bedroom','price'])\n",
    "data.head() # this will show the first five data in the dataframe"
   ]
  },
  {
   "cell_type": "code",
   "execution_count": 89,
   "metadata": {},
   "outputs": [],
   "source": [
    "# Lets convert values of the pandas dataframe into a numpy array\n",
    "data = data.values"
   ]
  },
  {
   "cell_type": "markdown",
   "metadata": {},
   "source": [
    "You can also convert the data in to a numpy array without needing to go through pandas. Use the code below\n",
    "\n",
    "`data = np.loadtxt(\"ex1data1.txt\", delimiter=',')`"
   ]
  },
  {
   "cell_type": "code",
   "execution_count": 90,
   "metadata": {},
   "outputs": [
    {
     "data": {
      "text/plain": [
       "(47, 3)"
      ]
     },
     "execution_count": 90,
     "metadata": {},
     "output_type": "execute_result"
    }
   ],
   "source": [
    "data.shape"
   ]
  },
  {
   "cell_type": "markdown",
   "metadata": {},
   "source": [
    "We have 47 training examples and two independent variable `x` on the first and second column and one dependent variable `y` on the third column\n",
    "\n",
    "**Recall:**\n",
    "- Our untrained model is given by: ![title](img/model.gif)\n",
    "    \n",
    "- Which you can also be written as ![title](img/model2.gif)\n",
    "\n",
    "where:\n",
    "- `y` is the ground truth or output\n",
    "- `x` is the input values\n",
    "- `theta` is the weight or parameters that needs to learn\n"
   ]
  },
  {
   "cell_type": "markdown",
   "metadata": {},
   "source": [
    "Beacuse we have three coefficient of `theta` `( x1, x2)`, we want to create a `97 x 2` matrix that contains the input values on the first column and second column.\n",
    "\n",
    "Notice that unlike in the last class, we did not create a third column here that contains `ones` which are coefficients for the **bias** `ie (theta0)`. This is because we would still have to normalize the input data. and it makes no sense normalizing `ones`, because we want them to remain as `ones`."
   ]
  },
  {
   "cell_type": "code",
   "execution_count": 91,
   "metadata": {},
   "outputs": [],
   "source": [
    "x_data = np.c_[data[:,0], data[:,1]] "
   ]
  },
  {
   "cell_type": "markdown",
   "metadata": {},
   "source": [
    "Similarly, we want to create a row vector with a dimension of `97 x 1` for all the output values in our dataset"
   ]
  },
  {
   "cell_type": "code",
   "execution_count": 196,
   "metadata": {},
   "outputs": [
    {
     "data": {
      "text/plain": [
       "(47, 1)"
      ]
     },
     "execution_count": 196,
     "metadata": {},
     "output_type": "execute_result"
    }
   ],
   "source": [
    "y = np.c_[data[:,2]]\n",
    "y.shape"
   ]
  },
  {
   "cell_type": "markdown",
   "metadata": {},
   "source": [
    "### Data Visualization"
   ]
  },
  {
   "cell_type": "code",
   "execution_count": 93,
   "metadata": {},
   "outputs": [
    {
     "data": {
      "text/plain": [
       "Text(0.5, 1.0, 'ROOM SIZE VS PRICE')"
      ]
     },
     "execution_count": 93,
     "metadata": {},
     "output_type": "execute_result"
    },
    {
     "data": {
      "image/png": "[encoded data removed]",
      "text/plain": [
       "<Figure size 432x288 with 1 Axes>"
      ]
     },
     "metadata": {
      "needs_background": "light"
     },
     "output_type": "display_data"
    }
   ],
   "source": [
    "# Lets plot the data to see how they correlate.\n",
    "plt.scatter(x_data[:,0], y, s=32, marker='o')\n",
    "plt.xlabel(\"Room Size\")\n",
    "plt.ylabel(\"Price\")\n",
    "plt.title(\"ROOM SIZE VS PRICE\")"
   ]
  },
  {
   "cell_type": "code",
   "execution_count": 94,
   "metadata": {},
   "outputs": [
    {
     "data": {
      "text/plain": [
       "Text(0.5, 1.0, 'NUMBER OF ROOMS VS PRICE')"
      ]
     },
     "execution_count": 94,
     "metadata": {},
     "output_type": "execute_result"
    },
    {
     "data": {
      "image/png": "[encoded data removed]",
      "text/plain": [
       "<Figure size 432x288 with 1 Axes>"
      ]
     },
     "metadata": {
      "needs_background": "light"
     },
     "output_type": "display_data"
    }
   ],
   "source": [
    "plt.scatter(x_data[:,1], y, s=32, marker='x')\n",
    "plt.xlabel(\"Number of Bedroom\")\n",
    "plt.ylabel(\"Price\")\n",
    "plt.title(\"NUMBER OF ROOMS VS PRICE\")"
   ]
  },
  {
   "cell_type": "markdown",
   "metadata": {},
   "source": [
    "### Class Discussion\n",
    "\n",
    "- What do you notice from the two plots?\n",
    "- Do you thing a reasonable model can be created?"
   ]
  },
  {
   "cell_type": "markdown",
   "metadata": {},
   "source": [
    "## Feature Normalizing"
   ]
  },
  {
   "cell_type": "markdown",
   "metadata": {},
   "source": [
    "![title](img/eqn1.gif)"
   ]
  },
  {
   "cell_type": "code",
   "execution_count": 259,
   "metadata": {},
   "outputs": [],
   "source": [
    "def featureNorm(x_data):\n",
    "    # save the feature data in another variable\n",
    "    x_norm = x_data.copy()\n",
    "    \n",
    "    # Create a row vector of zeros, having the same number of rows as the input feature\n",
    "    mean = np.mean(x_data, axis=0)\n",
    "    standard_deviation = np.std(x_data, axis=0)\n",
    "    print(\"... The mean and standard devation for the room sizes are: \", mean[0], \" and \", standard_deviation[0] , \"\\n\")\n",
    "    print(\"... The mean and standard devation for the number of rooms are: \", mean[1], \" and \", standard_deviation[1], \"\\n\")\n",
    "    \n",
    "    x_norm = np.divide((x_data - mean),sigma)\n",
    "    print(\"... Input feature has been normalized\", \"\\n\")\n",
    "    \n",
    "    # Now, we can add the one vector that represent the coefficent of the bias that we discussed earlier\n",
    "    x = np.concatenate((np.ones((x_data[:,0].size, 1)), x_norm), axis=1) \n",
    "    print(\"... A ones vector has been successfully concatenated to the input feature matrix\", \"\\n\")\n",
    "    \n",
    "    return x, mean, standard_deviation"
   ]
  },
  {
   "cell_type": "code",
   "execution_count": 260,
   "metadata": {},
   "outputs": [
    {
     "name": "stdout",
     "output_type": "stream",
     "text": [
      "... The mean and standard devation for the room sizes are:  2000.6808510638298  and  786.2026187430467 \n",
      "\n",
      "... The mean and standard devation for the number of rooms are:  3.1702127659574466  and  0.7528428090618782 \n",
      "\n",
      "... Input feature has been normalized \n",
      "\n",
      "... A ones vector has been successfully concatenated to the input feature matrix \n",
      "\n"
     ]
    }
   ],
   "source": [
    "x, mu, sigma = featureNorm(x_data)"
   ]
  },
  {
   "cell_type": "markdown",
   "metadata": {},
   "source": [
    "### Training "
   ]
  },
  {
   "cell_type": "markdown",
   "metadata": {},
   "source": [
    "Recall from the class, the process to training a linear regression model is as follow.\n",
    "\n",
    "We want to find the appropriate value of `theta` that will give us a good estimate of a city's profit if lthe city's population is supplied.\n",
    "\n",
    "To do this, \n",
    "- We want to start with a random value of `theta` to generate a hypothesis\n",
    "![title](img/model3.gif)\n",
    "\n",
    "- Then continually correct values of `theta` until the deviation of the hypothesis/prediction `h` from the ground-truth `y` is greatly reduced\n",
    "\n",
    "**Note:** In the last class, we used something like this `theta = [[0],[0],[0]]` to initialize the values of theta. Going forward, we will use the numpy function to initialize the values of theta, because we could have large number of theta values. ie `theta = np.zeros(3)`"
   ]
  },
  {
   "cell_type": "code",
   "execution_count": 255,
   "metadata": {},
   "outputs": [],
   "source": [
    "def train(x, y):\n",
    "    iteration = 500\n",
    "    # For this practice are initiallizing are theta with values of zero.\n",
    "    theta = np.zeros((3, 1))\n",
    "    \n",
    "    # Here, want to save our cost function or loss or square error, \n",
    "    # so that we can have an idea of how the deviation of the hypothesis from the ground thruth reduces\n",
    "    cost_function = np.zeros(iteration)\n",
    "    \n",
    "    for i in range(iteration):\n",
    "        # Step 1: we make a prediction using the random weights (theta) that we initialized\n",
    "        # @ is a fancy way do performing dot products\n",
    "        h = x @ theta\n",
    "        # Step 2: We take a step to correct the weights (theta) to that the next predicion will be better\n",
    "        theta = update_weight(h, theta, x)\n",
    "        # Step 3: We measure the deviation or error\n",
    "        cost_function[i] = cost(x, theta)\n",
    "\n",
    "        print(\"Running Gradient Descent. Current cost function is \", cost_function[i])\n",
    "        \n",
    "    return theta, cost_function"
   ]
  },
  {
   "cell_type": "markdown",
   "metadata": {},
   "source": [
    "But how do we check the error like we defined above?\n",
    "\n",
    "Remember the error formular (cost function)? \n",
    "![title](img/model44.gif)\n",
    "\n",
    "where:\n",
    "- `m` is the number of training example\n",
    "- `x` is the input data\n",
    "- `h` is the hypothesis\n",
    "- `y` is the prediction\n",
    "\n",
    "The equation tries to find the square error between the ground truth and the prediction.\n"
   ]
  },
  {
   "cell_type": "code",
   "execution_count": 256,
   "metadata": {},
   "outputs": [],
   "source": [
    "def cost(x, theta):\n",
    "    m = x[:,0].size\n",
    "    h = x @ theta\n",
    "    return (1/2*m) * np.sum(np.square(h - y))"
   ]
  },
  {
   "cell_type": "markdown",
   "metadata": {},
   "source": [
    "Now that we are able to get a sense of the error, how do we update how weight (theta) such that is predicts better?\n",
    "\n",
    "Like we discussed in class, gradient descent algorithim will be used for this purpose.\n",
    "\n",
    "The general formular for gradient is given below:\n",
    "![title](img/model6.gif)\n",
    "which can be differentiated to give:\n",
    "![title](img/model5.gif)\n",
    "where\n",
    "- alpha is the learning rate\n",
    "\n",
    "ie: we continually update the weight(theta) by taking steps(alpha) for the derived gradient of the error until we have sufficiently minimized theta."
   ]
  },
  {
   "cell_type": "code",
   "execution_count": 257,
   "metadata": {},
   "outputs": [],
   "source": [
    "def update_weight(h, theta, x):\n",
    "    m = x[:,0].size\n",
    "    alpha = 0.01\n",
    "    theta = theta - alpha * (1/m * (x.T @ (h - y)))\n",
    "    return theta"
   ]
  },
  {
   "cell_type": "markdown",
   "metadata": {},
   "source": [
    "Now, lets pass in our data and train."
   ]
  },
  {
   "cell_type": "code",
   "execution_count": 258,
   "metadata": {},
   "outputs": [
    {
     "name": "stdout",
     "output_type": "stream",
     "text": [
      "Running Gradient Descent. Current cost function is  142033787739828.8\n",
      "Running Gradient Descent. Current cost function is  139235519436896.6\n",
      "Running Gradient Descent. Current cost function is  136495643570709.28\n",
      "Running Gradient Descent. Current cost function is  133812907316498.19\n",
      "Running Gradient Descent. Current cost function is  131186085653634.83\n",
      "Running Gradient Descent. Current cost function is  128613980722852.16\n",
      "Running Gradient Descent. Current cost function is  126095421199032.95\n",
      "Running Gradient Descent. Current cost function is  123629261679167.28\n",
      "Running Gradient Descent. Current cost function is  121214382085095.69\n",
      "Running Gradient Descent. Current cost function is  118849687080662.19\n",
      "Running Gradient Descent. Current cost function is  116534105502912.44\n",
      "Running Gradient Descent. Current cost function is  114266589806981.6\n",
      "Running Gradient Descent. Current cost function is  112046115524326.58\n",
      "Running Gradient Descent. Current cost function is  109871680733965.17\n",
      "Running Gradient Descent. Current cost function is  107742305546394.98\n",
      "Running Gradient Descent. Current cost function is  105657031599872.6\n",
      "Running Gradient Descent. Current cost function is  103614921568742.27\n",
      "Running Gradient Descent. Current cost function is  101615058683512.06\n",
      "Running Gradient Descent. Current cost function is  99656546262382.34\n",
      "Running Gradient Descent. Current cost function is  97738507253939.92\n",
      "Running Gradient Descent. Current cost function is  95860083790738.73\n",
      "Running Gradient Descent. Current cost function is  94020436753495.0\n",
      "Running Gradient Descent. Current cost function is  92218745345632.06\n",
      "Running Gradient Descent. Current cost function is  90454206677916.73\n",
      "Running Gradient Descent. Current cost function is  88726035362936.34\n",
      "Running Gradient Descent. Current cost function is  87033463119171.83\n",
      "Running Gradient Descent. Current cost function is  85375738384428.25\n",
      "Running Gradient Descent. Current cost function is  83752125938391.19\n",
      "Running Gradient Descent. Current cost function is  82161906534082.86\n",
      "Running Gradient Descent. Current cost function is  80604376537997.55\n",
      "Running Gradient Descent. Current cost function is  79078847578702.3\n",
      "Running Gradient Descent. Current cost function is  77584646203694.14\n",
      "Running Gradient Descent. Current cost function is  76121113544309.75\n",
      "Running Gradient Descent. Current cost function is  74687604988490.02\n",
      "Running Gradient Descent. Current cost function is  73283489861206.31\n",
      "Running Gradient Descent. Current cost function is  71908151112359.95\n",
      "Running Gradient Descent. Current cost function is  70560985011972.25\n",
      "Running Gradient Descent. Current cost function is  69241400852486.05\n",
      "Running Gradient Descent. Current cost function is  67948820658005.33\n",
      "Running Gradient Descent. Current cost function is  66682678900302.94\n",
      "Running Gradient Descent. Current cost function is  65442422221431.68\n",
      "Running Gradient Descent. Current cost function is  64227509162777.664\n",
      "Running Gradient Descent. Current cost function is  63037409900399.12\n",
      "Running Gradient Descent. Current cost function is  61871605986498.086\n",
      "Running Gradient Descent. Current cost function is  60729590096876.0\n",
      "Running Gradient Descent. Current cost function is  59610865784227.766\n",
      "Running Gradient Descent. Current cost function is  58514947237133.84\n",
      "Running Gradient Descent. Current cost function is  57441359044611.09\n",
      "Running Gradient Descent. Current cost function is  56389635966089.766\n",
      "Running Gradient Descent. Current cost function is  55359322706684.29\n",
      "Running Gradient Descent. Current cost function is  54349973697631.07\n",
      "Running Gradient Descent. Current cost function is  53361152881768.945\n",
      "Running Gradient Descent. Current cost function is  52392433503940.53\n",
      "Running Gradient Descent. Current cost function is  51443397906196.99\n",
      "Running Gradient Descent. Current cost function is  50513637327690.555\n",
      "Running Gradient Descent. Current cost function is  49602751709142.695\n",
      "Running Gradient Descent. Current cost function is  48710349501778.59\n",
      "Running Gradient Descent. Current cost function is  47836047480621.0\n",
      "Running Gradient Descent. Current cost function is  46979470562039.51\n",
      "Running Gradient Descent. Current cost function is  46140251625454.09\n",
      "Running Gradient Descent. Current cost function is  45318031339093.414\n",
      "Running Gradient Descent. Current cost function is  44512457989712.17\n",
      "Running Gradient Descent. Current cost function is  43723187316172.99\n",
      "Running Gradient Descent. Current cost function is  42949882346801.41\n",
      "Running Gradient Descent. Current cost function is  42192213240424.4\n",
      "Running Gradient Descent. Current cost function is  41449857131005.625\n",
      "Running Gradient Descent. Current cost function is  40722497975791.836\n",
      "Running Gradient Descent. Current cost function is  40009826406888.14\n",
      "Running Gradient Descent. Current cost function is  39311539586180.71\n",
      "Running Gradient Descent. Current cost function is  38627341063528.805\n",
      "Running Gradient Descent. Current cost function is  37956940638148.336\n",
      "Running Gradient Descent. Current cost function is  37300054223112.73\n",
      "Running Gradient Descent. Current cost function is  36656403712897.53\n",
      "Running Gradient Descent. Current cost function is  36025716853897.51\n",
      "Running Gradient Descent. Current cost function is  35407727117846.7\n",
      "Running Gradient Descent. Current cost function is  34802173578073.406\n",
      "Running Gradient Descent. Current cost function is  34208800788524.055\n",
      "Running Gradient Descent. Current cost function is  33627358665491.176\n",
      "Running Gradient Descent. Current cost function is  33057602371982.57\n",
      "Running Gradient Descent. Current cost function is  32499292204670.21\n",
      "Running Gradient Descent. Current cost function is  31952193483358.76\n",
      "Running Gradient Descent. Current cost function is  31416076442915.336\n",
      "Running Gradient Descent. Current cost function is  30890716127603.242\n",
      "Running Gradient Descent. Current cost function is  30375892287764.285\n",
      "Running Gradient Descent. Current cost function is  29871389278794.848\n",
      "Running Gradient Descent. Current cost function is  29376995962363.152\n",
      "Running Gradient Descent. Current cost function is  28892505609815.625\n",
      "Running Gradient Descent. Current cost function is  28417715807721.996\n",
      "Running Gradient Descent. Current cost function is  27952428365509.875\n",
      "Running Gradient Descent. Current cost function is  27496449225140.64\n",
      "Running Gradient Descent. Current cost function is  27049588372779.695\n",
      "Running Gradient Descent. Current cost function is  26611659752415.402\n",
      "Running Gradient Descent. Current cost function is  26182481181381.895\n",
      "Running Gradient Descent. Current cost function is  25761874267742.05\n",
      "Running Gradient Descent. Current cost function is  25349664329488.32\n",
      "Running Gradient Descent. Current cost function is  24945680315519.496\n",
      "Running Gradient Descent. Current cost function is  24549754728353.164\n",
      "Running Gradient Descent. Current cost function is  24161723548534.027\n",
      "Running Gradient Descent. Current cost function is  23781426160699.49\n",
      "Running Gradient Descent. Current cost function is  23408705281264.863\n",
      "Running Gradient Descent. Current cost function is  23043406887691.227\n",
      "Running Gradient Descent. Current cost function is  22685380149300.11\n",
      "Running Gradient Descent. Current cost function is  22334477359599.7\n",
      "Running Gradient Descent. Current cost function is  21990553870088.57\n",
      "Running Gradient Descent. Current cost function is  21653468025503.195\n",
      "Running Gradient Descent. Current cost function is  21323081100476.773\n",
      "Running Gradient Descent. Current cost function is  20999257237577.36\n",
      "Running Gradient Descent. Current cost function is  20681863386694.195\n",
      "Running Gradient Descent. Current cost function is  20370769245741.863\n",
      "Running Gradient Descent. Current cost function is  20065847202652.434\n",
      "Running Gradient Descent. Current cost function is  19766972278626.84\n",
      "Running Gradient Descent. Current cost function is  19474022072616.91\n",
      "Running Gradient Descent. Current cost function is  19186876707010.605\n",
      "Running Gradient Descent. Current cost function is  18905418774493.31\n",
      "Running Gradient Descent. Current cost function is  18629533286058.984\n",
      "Running Gradient Descent. Current cost function is  18359107620145.215\n",
      "Running Gradient Descent. Current cost function is  18094031472867.16\n",
      "Running Gradient Descent. Current cost function is  17834196809325.8\n",
      "Running Gradient Descent. Current cost function is  17579497815966.438\n",
      "Running Gradient Descent. Current cost function is  17329830853964.076\n",
      "Running Gradient Descent. Current cost function is  17085094413612.799\n",
      "Running Gradient Descent. Current cost function is  16845189069696.701\n",
      "Running Gradient Descent. Current cost function is  16610017437820.629\n",
      "Running Gradient Descent. Current cost function is  16379484131679.393\n",
      "Running Gradient Descent. Current cost function is  16153495721244.492\n",
      "Running Gradient Descent. Current cost function is  15931960691848.182\n",
      "Running Gradient Descent. Current cost function is  15714789404144.867\n",
      "Running Gradient Descent. Current cost function is  15501894054930.355\n",
      "Running Gradient Descent. Current cost function is  15293188638800.18\n",
      "Running Gradient Descent. Current cost function is  15088588910628.258\n",
      "Running Gradient Descent. Current cost function is  14888012348847.828\n",
      "Running Gradient Descent. Current cost function is  14691378119517.0\n",
      "Running Gradient Descent. Current cost function is  14498607041151.621\n",
      "Running Gradient Descent. Current cost function is  14309621550308.463\n",
      "Running Gradient Descent. Current cost function is  14124345667902.387\n",
      "Running Gradient Descent. Current cost function is  13942704966241.158\n",
      "Running Gradient Descent. Current cost function is  13764626536762.316\n",
      "Running Gradient Descent. Current cost function is  13590038958456.61\n",
      "Running Gradient Descent. Current cost function is  13418872266962.89\n",
      "Running Gradient Descent. Current cost function is  13251057924319.922\n",
      "Running Gradient Descent. Current cost function is  13086528789360.521\n",
      "Running Gradient Descent. Current cost function is  12925219088734.135\n",
      "Running Gradient Descent. Current cost function is  12767064388544.072\n",
      "Running Gradient Descent. Current cost function is  12612001566585.92\n",
      "Running Gradient Descent. Current cost function is  12459968785174.125\n",
      "Running Gradient Descent. Current cost function is  12310905464543.826\n",
      "Running Gradient Descent. Current cost function is  12164752256815.479\n",
      "Running Gradient Descent. Current cost function is  12021451020509.977\n",
      "Running Gradient Descent. Current cost function is  11880944795602.35\n",
      "Running Gradient Descent. Current cost function is  11743177779102.252\n",
      "Running Gradient Descent. Current cost function is  11608095301149.906\n",
      "Running Gradient Descent. Current cost function is  11475643801616.281\n",
      "Running Gradient Descent. Current cost function is  11345770807196.486\n",
      "Running Gradient Descent. Current cost function is  11218424908985.904\n",
      "Running Gradient Descent. Current cost function is  11093555740528.387\n",
      "Running Gradient Descent. Current cost function is  10971113956326.47\n",
      "Running Gradient Descent. Current cost function is  10851051210803.541\n",
      "Running Gradient Descent. Current cost function is  10733320137708.242\n",
      "Running Gradient Descent. Current cost function is  10617874329951.525\n",
      "Running Gradient Descent. Current cost function is  10504668319867.096\n",
      "Running Gradient Descent. Current cost function is  10393657559886.055\n",
      "Running Gradient Descent. Current cost function is  10284798403616.87\n",
      "Running Gradient Descent. Current cost function is  10178048087321.928\n",
      "Running Gradient Descent. Current cost function is  10073364711782.195\n",
      "Running Gradient Descent. Current cost function is  9970707224541.566\n",
      "Running Gradient Descent. Current cost function is  9870035402522.818\n",
      "Running Gradient Descent. Current cost function is  9771309835007.193\n",
      "Running Gradient Descent. Current cost function is  9674491906969.773\n",
      "Running Gradient Descent. Current cost function is  9579543782763.121\n",
      "Running Gradient Descent. Current cost function is  9486428390141.545\n",
      "Running Gradient Descent. Current cost function is  9395109404618.994\n",
      "Running Gradient Descent. Current cost function is  9305551234153.127\n",
      "Running Gradient Descent. Current cost function is  9217719004148.855\n",
      "Running Gradient Descent. Current cost function is  9131578542774.379\n",
      "Running Gradient Descent. Current cost function is  9047096366583.135\n",
      "Running Gradient Descent. Current cost function is  8964239666435.076\n",
      "Running Gradient Descent. Current cost function is  8882976293710.979\n",
      "Running Gradient Descent. Current cost function is  8803274746813.463\n",
      "Running Gradient Descent. Current cost function is  8725104157948.655\n",
      "Running Gradient Descent. Current cost function is  8648434280182.578\n",
      "Running Gradient Descent. Current cost function is  8573235474766.374\n",
      "Running Gradient Descent. Current cost function is  8499478698724.611\n",
      "Running Gradient Descent. Current cost function is  8427135492701.246\n",
      "Running Gradient Descent. Current cost function is  8356177969057.588\n",
      "Running Gradient Descent. Current cost function is  8286578800217.066\n",
      "Running Gradient Descent. Current cost function is  8218311207251.528\n",
      "Running Gradient Descent. Current cost function is  8151348948703.931\n",
      "Running Gradient Descent. Current cost function is  8085666309642.44\n",
      "Running Gradient Descent. Current cost function is  8021238090941.109\n",
      "Running Gradient Descent. Current cost function is  7958039598782.211\n",
      "Running Gradient Descent. Current cost function is  7896046634375.702\n",
      "Running Gradient Descent. Current cost function is  7835235483891.133\n",
      "Running Gradient Descent. Current cost function is  7775582908597.509\n",
      "Running Gradient Descent. Current cost function is  7717066135206.875\n",
      "Running Gradient Descent. Current cost function is  7659662846417.095\n",
      "Running Gradient Descent. Current cost function is  7603351171649.843\n",
      "Running Gradient Descent. Current cost function is  7548109677979.597\n",
      "Running Gradient Descent. Current cost function is  7493917361249.621\n",
      "Running Gradient Descent. Current cost function is  7440753637371.03\n",
      "Running Gradient Descent. Current cost function is  7388598333801.069\n",
      "Running Gradient Descent. Current cost function is  7337431681196.924\n",
      "Running Gradient Descent. Current cost function is  7287234305241.213\n",
      "Running Gradient Descent. Current cost function is  7237987218635.758\n",
      "Running Gradient Descent. Current cost function is  7189671813259.942\n",
      "Running Gradient Descent. Current cost function is  7142269852490.323\n",
      "Running Gradient Descent. Current cost function is  7095763463678.062\n",
      "Running Gradient Descent. Current cost function is  7050135130780.891\n",
      "Running Gradient Descent. Current cost function is  7005367687146.343\n",
      "Running Gradient Descent. Current cost function is  6961444308443.203\n",
      "Running Gradient Descent. Current cost function is  6918348505737.887\n",
      "Running Gradient Descent. Current cost function is  6876064118712.946\n",
      "Running Gradient Descent. Current cost function is  6834575309024.53\n",
      "Running Gradient Descent. Current cost function is  6793866553796.057\n",
      "Running Gradient Descent. Current cost function is  6753922639245.146\n",
      "Running Gradient Descent. Current cost function is  6714728654441.15\n",
      "Running Gradient Descent. Current cost function is  6676269985190.403\n",
      "Running Gradient Descent. Current cost function is  6638532308046.711\n",
      "Running Gradient Descent. Current cost function is  6601501584444.33\n",
      "Running Gradient Descent. Current cost function is  6565164054950.98\n",
      "Running Gradient Descent. Current cost function is  6529506233638.322\n",
      "Running Gradient Descent. Current cost function is  6494514902567.528\n",
      "Running Gradient Descent. Current cost function is  6460177106387.507\n",
      "Running Gradient Descent. Current cost function is  6426480147043.474\n",
      "Running Gradient Descent. Current cost function is  6393411578593.548\n",
      "Running Gradient Descent. Current cost function is  6360959202131.163\n",
      "Running Gradient Descent. Current cost function is  6329111060811.075\n",
      "Running Gradient Descent. Current cost function is  6297855434976.83\n",
      "Running Gradient Descent. Current cost function is  6267180837387.603\n",
      "Running Gradient Descent. Current cost function is  6237076008542.326\n",
      "Running Gradient Descent. Current cost function is  6207529912099.119\n",
      "Running Gradient Descent. Current cost function is  6178531730388.008\n",
      "Running Gradient Descent. Current cost function is  6150070860015.046\n",
      "Running Gradient Descent. Current cost function is  6122136907555.956\n",
      "Running Gradient Descent. Current cost function is  6094719685337.374\n",
      "Running Gradient Descent. Current cost function is  6067809207303.961\n",
      "Running Gradient Descent. Current cost function is  6041395684969.572\n",
      "Running Gradient Descent. Current cost function is  6015469523450.762\n",
      "Running Gradient Descent. Current cost function is  5990021317580.916\n",
      "Running Gradient Descent. Current cost function is  5965041848103.352\n",
      "Running Gradient Descent. Current cost function is  5940522077941.773\n",
      "Running Gradient Descent. Current cost function is  5916453148546.457\n",
      "Running Gradient Descent. Current cost function is  5892826376314.628\n",
      "Running Gradient Descent. Current cost function is  5869633249083.525\n",
      "Running Gradient Descent. Current cost function is  5846865422694.598\n",
      "Running Gradient Descent. Current cost function is  5824514717627.417\n",
      "Running Gradient Descent. Current cost function is  5802573115701.865\n",
      "Running Gradient Descent. Current cost function is  5781032756847.173\n",
      "Running Gradient Descent. Current cost function is  5759885935936.463\n",
      "Running Gradient Descent. Current cost function is  5739125099685.426\n",
      "Running Gradient Descent. Current cost function is  5718742843613.846\n",
      "Running Gradient Descent. Current cost function is  5698731909068.632\n",
      "Running Gradient Descent. Current cost function is  5679085180307.166\n",
      "Running Gradient Descent. Current cost function is  5659795681639.655\n",
      "Running Gradient Descent. Current cost function is  5640856574629.344\n",
      "Running Gradient Descent. Current cost function is  5622261155349.341\n",
      "Running Gradient Descent. Current cost function is  5604002851694.959\n",
      "Running Gradient Descent. Current cost function is  5586075220750.371\n",
      "Running Gradient Descent. Current cost function is  5568471946208.528\n",
      "Running Gradient Descent. Current cost function is  5551186835843.215\n",
      "Running Gradient Descent. Current cost function is  5534213819032.165\n",
      "Running Gradient Descent. Current cost function is  5517546944330.2295\n",
      "Running Gradient Descent. Current cost function is  5501180377091.559\n",
      "Running Gradient Descent. Current cost function is  5485108397139.767\n",
      "Running Gradient Descent. Current cost function is  5469325396485.141\n",
      "Running Gradient Descent. Current cost function is  5453825877087.922\n",
      "Running Gradient Descent. Current cost function is  5438604448666.698\n",
      "Running Gradient Descent. Current cost function is  5423655826551.004\n",
      "Running Gradient Descent. Current cost function is  5408974829577.229\n",
      "Running Gradient Descent. Current cost function is  5394556378026.9375\n",
      "Running Gradient Descent. Current cost function is  5380395491606.752\n",
      "Running Gradient Descent. Current cost function is  5366487287468.918\n",
      "Running Gradient Descent. Current cost function is  5352826978271.777\n",
      "Running Gradient Descent. Current cost function is  5339409870279.287\n",
      "Running Gradient Descent. Current cost function is  5326231361498.804\n",
      "Running Gradient Descent. Current cost function is  5313286939856.366\n",
      "Running Gradient Descent. Current cost function is  5300572181408.697\n",
      "Running Gradient Descent. Current cost function is  5288082748591.177\n",
      "Running Gradient Descent. Current cost function is  5275814388501.085\n",
      "Running Gradient Descent. Current cost function is  5263762931215.336\n",
      "Running Gradient Descent. Current cost function is  5251924288142.078\n",
      "Running Gradient Descent. Current cost function is  5240294450405.395\n",
      "Running Gradient Descent. Current cost function is  5228869487262.509\n",
      "Running Gradient Descent. Current cost function is  5217645544552.759\n",
      "Running Gradient Descent. Current cost function is  5206618843177.75\n",
      "Running Gradient Descent. Current cost function is  5195785677612.038\n",
      "Running Gradient Descent. Current cost function is  5185142414443.698\n",
      "Running Gradient Descent. Current cost function is  5174685490944.228\n",
      "Running Gradient Descent. Current cost function is  5164411413667.104\n",
      "Running Gradient Descent. Current cost function is  5154316757074.526\n",
      "Running Gradient Descent. Current cost function is  5144398162191.658\n",
      "Running Gradient Descent. Current cost function is  5134652335287.888\n",
      "Running Gradient Descent. Current cost function is  5125076046584.533\n",
      "Running Gradient Descent. Current cost function is  5115666128988.457\n",
      "Running Gradient Descent. Current cost function is  5106419476851.058\n",
      "Running Gradient Descent. Current cost function is  5097333044752.1455\n",
      "Running Gradient Descent. Current cost function is  5088403846308.182\n",
      "Running Gradient Descent. Current cost function is  5079628953004.388\n",
      "Running Gradient Descent. Current cost function is  5071005493050.252\n",
      "Running Gradient Descent. Current cost function is  5062530650257.945\n",
      "Running Gradient Descent. Current cost function is  5054201662943.203\n",
      "Running Gradient Descent. Current cost function is  5046015822848.195\n",
      "Running Gradient Descent. Current cost function is  5037970474085.958\n",
      "Running Gradient Descent. Current cost function is  5030063012105.954\n",
      "Running Gradient Descent. Current cost function is  5022290882680.294\n",
      "Running Gradient Descent. Current cost function is  5014651580910.273\n",
      "Running Gradient Descent. Current cost function is  5007142650252.743\n",
      "Running Gradient Descent. Current cost function is  4999761681565.956\n",
      "Running Gradient Descent. Current cost function is  4992506312174.487\n",
      "Running Gradient Descent. Current cost function is  4985374224952.835\n",
      "Running Gradient Descent. Current cost function is  4978363147427.317\n",
      "Running Gradient Descent. Current cost function is  4971470850895.943\n",
      "Running Gradient Descent. Current cost function is  4964695149565.817\n",
      "Running Gradient Descent. Current cost function is  4958033899707.807\n",
      "Running Gradient Descent. Current cost function is  4951484998828.043\n",
      "Running Gradient Descent. Current cost function is  4945046384855.996\n",
      "Running Gradient Descent. Current cost function is  4938716035348.731\n",
      "Running Gradient Descent. Current cost function is  4932491966711.043\n",
      "Running Gradient Descent. Current cost function is  4926372233431.138\n",
      "Running Gradient Descent. Current cost function is  4920354927331.584\n",
      "Running Gradient Descent. Current cost function is  4914438176835.16\n",
      "Running Gradient Descent. Current cost function is  4908620146245.371\n",
      "Running Gradient Descent. Current cost function is  4902899035041.281\n",
      "Running Gradient Descent. Current cost function is  4897273077186.396\n",
      "Running Gradient Descent. Current cost function is  4891740540451.3545\n",
      "Running Gradient Descent. Current cost function is  4886299725750.044\n",
      "Running Gradient Descent. Current cost function is  4880948966488.993\n",
      "Running Gradient Descent. Current cost function is  4875686627929.689\n",
      "Running Gradient Descent. Current cost function is  4870511106563.607\n",
      "Running Gradient Descent. Current cost function is  4865420829499.653\n",
      "Running Gradient Descent. Current cost function is  4860414253863.809\n",
      "Running Gradient Descent. Current cost function is  4855489866210.742\n",
      "Running Gradient Descent. Current cost function is  4850646181947.072\n",
      "Running Gradient Descent. Current cost function is  4845881744766.151\n",
      "Running Gradient Descent. Current cost function is  4841195126094.047\n",
      "Running Gradient Descent. Current cost function is  4836584924546.572\n",
      "Running Gradient Descent. Current cost function is  4832049765397.063\n",
      "Running Gradient Descent. Current cost function is  4827588300054.785\n",
      "Running Gradient Descent. Current cost function is  4823199205553.644\n",
      "Running Gradient Descent. Current cost function is  4818881184051.098\n",
      "Running Gradient Descent. Current cost function is  4814632962337.003\n",
      "Running Gradient Descent. Current cost function is  4810453291352.203\n",
      "Running Gradient Descent. Current cost function is  4806340945716.677\n",
      "Running Gradient Descent. Current cost function is  4802294723267.07\n",
      "Running Gradient Descent. Current cost function is  4798313444603.371\n",
      "Running Gradient Descent. Current cost function is  4794395952644.611\n",
      "Running Gradient Descent. Current cost function is  4790541112193.3545\n",
      "Running Gradient Descent. Current cost function is  4786747809508.832\n",
      "Running Gradient Descent. Current cost function is  4783014951888.532\n",
      "Running Gradient Descent. Current cost function is  4779341467258.108\n",
      "Running Gradient Descent. Current cost function is  4775726303769.373\n",
      "Running Gradient Descent. Current cost function is  4772168429406.296\n",
      "Running Gradient Descent. Current cost function is  4768666831598.782\n",
      "Running Gradient Descent. Current cost function is  4765220516844.113\n",
      "Running Gradient Descent. Current cost function is  4761828510335.872\n",
      "Running Gradient Descent. Current cost function is  4758489855600.229\n",
      "Running Gradient Descent. Current cost function is  4755203614139.408\n",
      "Running Gradient Descent. Current cost function is  4751968865082.221\n",
      "Running Gradient Descent. Current cost function is  4748784704841.521\n",
      "Running Gradient Descent. Current cost function is  4745650246778.413\n",
      "Running Gradient Descent. Current cost function is  4742564620873.12\n",
      "Running Gradient Descent. Current cost function is  4739526973402.348\n",
      "Running Gradient Descent. Current cost function is  4736536466623.039\n",
      "Running Gradient Descent. Current cost function is  4733592278462.36\n",
      "Running Gradient Descent. Current cost function is  4730693602213.832\n",
      "Running Gradient Descent. Current cost function is  4727839646239.452\n",
      "Running Gradient Descent. Current cost function is  4725029633677.692\n",
      "Running Gradient Descent. Current cost function is  4722262802157.288\n",
      "Running Gradient Descent. Current cost function is  4719538403516.652\n",
      "Running Gradient Descent. Current cost function is  4716855703528.843\n",
      "Running Gradient Descent. Current cost function is  4714213981631.942\n",
      "Running Gradient Descent. Current cost function is  4711612530664.783\n",
      "Running Gradient Descent. Current cost function is  4709050656607.847\n",
      "Running Gradient Descent. Current cost function is  4706527678329.313\n",
      "Running Gradient Descent. Current cost function is  4704042927336.085\n",
      "Running Gradient Descent. Current cost function is  4701595747529.734\n",
      "Running Gradient Descent. Current cost function is  4699185494967.27\n",
      "Running Gradient Descent. Current cost function is  4696811537626.579\n",
      "Running Gradient Descent. Current cost function is  4694473255176.536\n",
      "Running Gradient Descent. Current cost function is  4692170038751.605\n",
      "Running Gradient Descent. Current cost function is  4689901290730.901\n",
      "Running Gradient Descent. Current cost function is  4687666424521.58\n",
      "Running Gradient Descent. Current cost function is  4685464864346.511\n",
      "Running Gradient Descent. Current cost function is  4683296045036.106\n",
      "Running Gradient Descent. Current cost function is  4681159411824.273\n",
      "Running Gradient Descent. Current cost function is  4679054420148.351\n",
      "Running Gradient Descent. Current cost function is  4676980535452.99\n",
      "Running Gradient Descent. Current cost function is  4674937232997.893\n",
      "Running Gradient Descent. Current cost function is  4672923997669.329\n",
      "Running Gradient Descent. Current cost function is  4670940323795.345\n",
      "Running Gradient Descent. Current cost function is  4668985714964.621\n",
      "Running Gradient Descent. Current cost function is  4667059683848.863\n",
      "Running Gradient Descent. Current cost function is  4665161752028.704\n",
      "Running Gradient Descent. Current cost function is  4663291449822.997\n",
      "Running Gradient Descent. Current cost function is  4661448316121.486\n",
      "Running Gradient Descent. Current cost function is  4659631898220.733\n",
      "Running Gradient Descent. Current cost function is  4657841751663.282\n",
      "Running Gradient Descent. Current cost function is  4656077440079.965\n",
      "Running Gradient Descent. Current cost function is  4654338535035.304\n",
      "Running Gradient Descent. Current cost function is  4652624615875.928\n",
      "Running Gradient Descent. Current cost function is  4650935269582.008\n",
      "Running Gradient Descent. Current cost function is  4649270090621.523\n",
      "Running Gradient Descent. Current cost function is  4647628680807.454\n",
      "Running Gradient Descent. Current cost function is  4646010649157.7295\n",
      "Running Gradient Descent. Current cost function is  4644415611757.922\n",
      "Running Gradient Descent. Current cost function is  4642843191626.644\n",
      "Running Gradient Descent. Current cost function is  4641293018583.558\n",
      "Running Gradient Descent. Current cost function is  4639764729119.981\n",
      "Running Gradient Descent. Current cost function is  4638257966272.008\n",
      "Running Gradient Descent. Current cost function is  4636772379496.119\n",
      "Running Gradient Descent. Current cost function is  4635307624547.2295\n",
      "Running Gradient Descent. Current cost function is  4633863363359.093\n",
      "Running Gradient Descent. Current cost function is  4632439263927.072\n",
      "Running Gradient Descent. Current cost function is  4631035000193.176\n",
      "Running Gradient Descent. Current cost function is  4629650251933.34\n",
      "Running Gradient Descent. Current cost function is  4628284704646.927\n",
      "Running Gradient Descent. Current cost function is  4626938049448.36\n",
      "Running Gradient Descent. Current cost function is  4625609982960.876\n",
      "Running Gradient Descent. Current cost function is  4624300207212.36\n",
      "Running Gradient Descent. Current cost function is  4623008429533.183\n",
      "Running Gradient Descent. Current cost function is  4621734362456.063\n",
      "Running Gradient Descent. Current cost function is  4620477723617.86\n",
      "Running Gradient Descent. Current cost function is  4619238235663.2705\n",
      "Running Gradient Descent. Current cost function is  4618015626150.418\n",
      "Running Gradient Descent. Current cost function is  4616809627458.268\n",
      "Running Gradient Descent. Current cost function is  4615619976695.8545\n",
      "Running Gradient Descent. Current cost function is  4614446415613.245\n",
      "Running Gradient Descent. Current cost function is  4613288690514.281\n",
      "Running Gradient Descent. Current cost function is  4612146552170.959\n",
      "Running Gradient Descent. Current cost function is  4611019755739.53\n",
      "Running Gradient Descent. Current cost function is  4609908060678.188\n",
      "Running Gradient Descent. Current cost function is  4608811230666.358\n",
      "Running Gradient Descent. Current cost function is  4607729033525.594\n",
      "Running Gradient Descent. Current cost function is  4606661241141.943\n",
      "Running Gradient Descent. Current cost function is  4605607629389.883\n",
      "Running Gradient Descent. Current cost function is  4604567978057.673\n",
      "Running Gradient Descent. Current cost function is  4603542070774.208\n",
      "Running Gradient Descent. Current cost function is  4602529694937.241\n",
      "Running Gradient Descent. Current cost function is  4601530641643.031\n",
      "Running Gradient Descent. Current cost function is  4600544705617.33\n",
      "Running Gradient Descent. Current cost function is  4599571685147.715\n",
      "Running Gradient Descent. Current cost function is  4598611382017.231\n",
      "Running Gradient Descent. Current cost function is  4597663601439.313\n",
      "Running Gradient Descent. Current cost function is  4596728151993.965\n",
      "Running Gradient Descent. Current cost function is  4595804845565.177\n",
      "Running Gradient Descent. Current cost function is  4594893497279.536\n",
      "Running Gradient Descent. Current cost function is  4593993925446.061\n",
      "Running Gradient Descent. Current cost function is  4593105951497.135\n",
      "Running Gradient Descent. Current cost function is  4592229399930.647\n",
      "Running Gradient Descent. Current cost function is  4591364098253.2\n",
      "Running Gradient Descent. Current cost function is  4590509876924.433\n",
      "Running Gradient Descent. Current cost function is  4589666569302.402\n",
      "Running Gradient Descent. Current cost function is  4588834011590.054\n",
      "Running Gradient Descent. Current cost function is  4588012042782.667\n",
      "Running Gradient Descent. Current cost function is  4587200504616.365\n",
      "Running Gradient Descent. Current cost function is  4586399241517.573\n",
      "Running Gradient Descent. Current cost function is  4585608100553.484\n",
      "Running Gradient Descent. Current cost function is  4584826931383.44\n",
      "Running Gradient Descent. Current cost function is  4584055586211.285\n",
      "Running Gradient Descent. Current cost function is  4583293919738.615\n",
      "Running Gradient Descent. Current cost function is  4582541789118.907\n",
      "Running Gradient Descent. Current cost function is  4581799053912.568\n",
      "Running Gradient Descent. Current cost function is  4581065576042.818\n",
      "Running Gradient Descent. Current cost function is  4580341219752.418\n",
      "Running Gradient Descent. Current cost function is  4579625851561.25\n",
      "Running Gradient Descent. Current cost function is  4578919340224.681\n",
      "Running Gradient Descent. Current cost function is  4578221556692.747\n",
      "Running Gradient Descent. Current cost function is  4577532374070.108\n",
      "Running Gradient Descent. Current cost function is  4576851667576.77\n",
      "Running Gradient Descent. Current cost function is  4576179314509.556\n",
      "Running Gradient Descent. Current cost function is  4575515194204.31\n",
      "Running Gradient Descent. Current cost function is  4574859187998.846\n",
      "Running Gradient Descent. Current cost function is  4574211179196.571\n",
      "Running Gradient Descent. Current cost function is  4573571053030.828\n",
      "Running Gradient Descent. Current cost function is  4572938696629.898\n",
      "Running Gradient Descent. Current cost function is  4572313998982.696\n",
      "Running Gradient Descent. Current cost function is  4571696850905.088\n",
      "Running Gradient Descent. Current cost function is  4571087145006.883\n",
      "Running Gradient Descent. Current cost function is  4570484775659.424\n",
      "Running Gradient Descent. Current cost function is  4569889638963.824\n",
      "Running Gradient Descent. Current cost function is  4569301632719.769\n",
      "Running Gradient Descent. Current cost function is  4568720656394.958\n",
      "Running Gradient Descent. Current cost function is  4568146611095.083\n",
      "Running Gradient Descent. Current cost function is  4567579399534.417\n",
      "Running Gradient Descent. Current cost function is  4567018926006.917\n",
      "Running Gradient Descent. Current cost function is  4566465096357.922\n",
      "Running Gradient Descent. Current cost function is  4565917817956.34\n",
      "Running Gradient Descent. Current cost function is  4565376999667.412\n",
      "Running Gradient Descent. Current cost function is  4564842551825.94\n",
      "Running Gradient Descent. Current cost function is  4564314386210.07\n",
      "Running Gradient Descent. Current cost function is  4563792416015.532\n",
      "Running Gradient Descent. Current cost function is  4563276555830.389\n",
      "Running Gradient Descent. Current cost function is  4562766721610.256\n",
      "Running Gradient Descent. Current cost function is  4562262830653.992\n",
      "Running Gradient Descent. Current cost function is  4561764801579.84\n",
      "Running Gradient Descent. Current cost function is  4561272554302.032\n",
      "Running Gradient Descent. Current cost function is  4560786010007.816\n",
      "Running Gradient Descent. Current cost function is  4560305091134.9375\n",
      "Running Gradient Descent. Current cost function is  4559829721349.525\n",
      "Running Gradient Descent. Current cost function is  4559359825524.407\n",
      "Running Gradient Descent. Current cost function is  4558895329717.82\n"
     ]
    }
   ],
   "source": [
    "theta, cost_values = train(x, y)"
   ]
  },
  {
   "cell_type": "code",
   "execution_count": 205,
   "metadata": {},
   "outputs": [
    {
     "name": "stdout",
     "output_type": "stream",
     "text": [
      "Our learned value of theta:  [ 3.38175984e+05  1.03032124e+05 -2.02325233e+02]\n"
     ]
    }
   ],
   "source": [
    "# Now, lets see our trained weights\n",
    "print('Our learned value of theta: ',theta.ravel())"
   ]
  },
  {
   "cell_type": "markdown",
   "metadata": {},
   "source": [
    "Lets visualize how or error reduced durin?g the iteration. This is the power of gradient descent. "
   ]
  },
  {
   "cell_type": "code",
   "execution_count": 25,
   "metadata": {},
   "outputs": [
    {
     "data": {
      "image/png": "[encoded data removed]",
      "text/plain": [
       "<Figure size 432x288 with 1 Axes>"
      ]
     },
     "metadata": {
      "needs_background": "light"
     },
     "output_type": "display_data"
    }
   ],
   "source": [
    "plt.plot(cost_values)\n",
    "plt.ylabel('Cost J')\n",
    "plt.xlabel('Iterations');"
   ]
  },
  {
   "cell_type": "markdown",
   "metadata": {},
   "source": [
    "Notice that at the `400th iteration`, the model doesnt really change anymore. You should actually stop the iteration at that time and save cost of processing"
   ]
  },
  {
   "cell_type": "markdown",
   "metadata": {},
   "source": [
    "## Predict"
   ]
  },
  {
   "cell_type": "code",
   "execution_count": null,
   "metadata": {},
   "outputs": [],
   "source": []
  },
  {
   "cell_type": "code",
   "execution_count": null,
   "metadata": {},
   "outputs": [],
   "source": []
  },
  {
   "cell_type": "code",
   "execution_count": null,
   "metadata": {},
   "outputs": [],
   "source": []
  },
  {
   "cell_type": "code",
   "execution_count": 273,
   "metadata": {},
   "outputs": [
    {
     "data": {
      "image/png": "[encoded data removed]",
      "text/plain": [
       "<Figure size 432x288 with 1 Axes>"
      ]
     },
     "metadata": {
      "needs_background": "light"
     },
     "output_type": "display_data"
    }
   ],
   "source": [
    "from mpl_toolkits.mplot3d import axes3d, Axes3D #<-- Note the capitalization! \n",
    "# x_plot = np.arange(5,23)\n",
    "# y_plot = theta[1]*x_plot + theta[2]\n",
    "# # Plot gradient descent\n",
    "# plt.scatter(x[:,0], y, s=30, c='r', marker='o', linewidths=1)\n",
    "# plt.plot(x_plot,y_plot, label='Linear regression (Gradient descent)')\n",
    "\n",
    "#create some test data and simulate results\n",
    "x_data = x[:,0]\n",
    "w_real = x[:,1]\n",
    "\n",
    "# noise = np.random.randn(1,2000)*0.1\n",
    "# y_data = np.matmul(w_real,x_data.T) + b_real + noise\n",
    "\n",
    "# print(len(x_data))\n",
    "# print(len(y_data[0]))\n",
    "\n",
    "fig = plt.figure()\n",
    "ax = Axes3D(fig) \n",
    "# ax = (fig.add_subplot(111))\n",
    "\n",
    "x1 = x_data\n",
    "x2 = w_real\n",
    "ax.scatter3D(x1, y, x2, c=x2, cmap='Greens', );"
   ]
  },
  {
   "cell_type": "markdown",
   "metadata": {},
   "source": [
    "## Learning Rates"
   ]
  },
  {
   "cell_type": "code",
   "execution_count": 55,
   "metadata": {},
   "outputs": [],
   "source": [
    "# Choose some alpha value\n",
    "alphas = [1,0,0.1,0.001,0.0001]\n",
    "\n",
    "def update_weight_r(h, theta, x, alpha):\n",
    "    m = x[:,0].size\n",
    "    theta = theta - alpha * (1/m * (x.T @ (h - y)))\n",
    "    return theta\n",
    "\n",
    "def cost_r(x):\n",
    "    J = []\n",
    "    theta = [[0],[0],[0]]\n",
    "    iteration = 400\n",
    "    for i in alphas:\n",
    "        alpha = i\n",
    "        m = x[:,0].size\n",
    "        J_alpha = []\n",
    "        for i in range(iteration):\n",
    "            h = x @ theta\n",
    "            theta = update_weight_r(h, theta, x, alpha)\n",
    "            cost = (1/2*m) * np.sum(np.square(h - y))\n",
    "            J_alpha.append(cost)\n",
    "        J.append(J_alpha)\n",
    "    return J"
   ]
  },
  {
   "cell_type": "code",
   "execution_count": 57,
   "metadata": {},
   "outputs": [
    {
     "name": "stderr",
     "output_type": "stream",
     "text": [
      "C:\\Users\\Kenechi.Dukor\\AppData\\Local\\Continuum\\anaconda3\\lib\\site-packages\\ipykernel_launcher.py:21: RuntimeWarning: overflow encountered in double_scalars\n",
      "C:\\Users\\Kenechi.Dukor\\AppData\\Local\\Continuum\\anaconda3\\lib\\site-packages\\ipykernel_launcher.py:21: RuntimeWarning: overflow encountered in square\n"
     ]
    }
   ],
   "source": [
    "cost_alpha = cost_r(x)"
   ]
  },
  {
   "cell_type": "code",
   "execution_count": 72,
   "metadata": {
    "scrolled": true
   },
   "outputs": [
    {
     "data": {
      "image/png": "[encoded data removed]",
      "text/plain": [
       "<Figure size 432x288 with 1 Axes>"
      ]
     },
     "metadata": {
      "needs_background": "light"
     },
     "output_type": "display_data"
    }
   ],
   "source": [
    "\n",
    "plt.plot(cost_alpha[1])\n",
    "\n",
    "plt.ylabel('Cost J')\n",
    "plt.xlabel('Iterations');"
   ]
  },
  {
   "cell_type": "code",
   "execution_count": null,
   "metadata": {},
   "outputs": [],
   "source": []
  },
  {
   "cell_type": "code",
   "execution_count": null,
   "metadata": {},
   "outputs": [],
   "source": []
  },
  {
   "cell_type": "code",
   "execution_count": null,
   "metadata": {},
   "outputs": [],
   "source": []
  }
 ],
 "metadata": {
  "kernelspec": {
   "display_name": "Python 3",
   "language": "python",
   "name": "python3"
  },
  "language_info": {
   "codemirror_mode": {
    "name": "ipython",
    "version": 3
   },
   "file_extension": ".py",
   "mimetype": "text/x-python",
   "name": "python",
   "nbconvert_exporter": "python",
   "pygments_lexer": "ipython3",
   "version": "3.7.1"
  }
 },
 "nbformat": 4,
 "nbformat_minor": 2
}
